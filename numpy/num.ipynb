{
 "cells": [
  {
   "cell_type": "markdown",
   "metadata": {},
   "source": [
    "learning numpy"
   ]
  },
  {
   "cell_type": "code",
   "execution_count": 38,
   "metadata": {},
   "outputs": [
    {
     "name": "stdout",
     "output_type": "stream",
     "text": [
      "[1, 2, 3, 4, 5]\n"
     ]
    }
   ],
   "source": [
    "lst = [1,2,3,4,5]\n",
    "print(lst)"
   ]
  },
  {
   "cell_type": "code",
   "execution_count": 39,
   "metadata": {},
   "outputs": [],
   "source": [
    "import numpy as np"
   ]
  },
  {
   "cell_type": "code",
   "execution_count": 40,
   "metadata": {},
   "outputs": [
    {
     "name": "stdout",
     "output_type": "stream",
     "text": [
      "1d array\n",
      "[1 2 3 4 5]\n",
      "2d array\n",
      "[[1 2 3 4 5]\n",
      " [1 2 3 4 5]]\n",
      "3d array\n",
      "[[[ 1.   2.   3.   4.   5. ]\n",
      "  [ 1.   2.5  3.   4.   6. ]\n",
      "  [ 2.   3.   4.  56.   7. ]]]\n"
     ]
    },
    {
     "data": {
      "text/plain": [
       "numpy.ndarray"
      ]
     },
     "execution_count": 40,
     "metadata": {},
     "output_type": "execute_result"
    }
   ],
   "source": [
    "print(\"1d array\")\n",
    "a = np.array([1,2,3,4,5])\n",
    "print(a)\n",
    "\n",
    "\n",
    "print(\"2d array\")\n",
    "b = np.array([[1,2,3,4,5],\n",
    "              [1,2,3,4,5,]])\n",
    "print(b)\n",
    "\n",
    "\n",
    "print(\"3d array\")\n",
    "c = np.array([[[1,2,3,4,5],\n",
    "               [1,2.5,3,4,6],\n",
    "               [2,3,4,56,7]]])\n",
    "print(c)\n",
    "\n",
    "\n",
    "type(a)\n",
    "\n",
    "\n"
   ]
  },
  {
   "cell_type": "code",
   "execution_count": 41,
   "metadata": {},
   "outputs": [
    {
     "name": "stdout",
     "output_type": "stream",
     "text": [
      "5\n",
      "10\n",
      "15\n"
     ]
    }
   ],
   "source": [
    "print(a.size)\n",
    "print(b.size)\n",
    "print(c.size)"
   ]
  },
  {
   "cell_type": "code",
   "execution_count": 42,
   "metadata": {},
   "outputs": [
    {
     "name": "stdout",
     "output_type": "stream",
     "text": [
      "(5,)\n",
      "(2, 5)\n",
      "(1, 3, 5)\n"
     ]
    }
   ],
   "source": [
    "print(a.shape)\n",
    "print(b.shape)\n",
    "print(c.shape)"
   ]
  },
  {
   "cell_type": "code",
   "execution_count": 47,
   "metadata": {},
   "outputs": [
    {
     "data": {
      "text/plain": [
       "array([[[ 1. ],\n",
       "        [ 1. ],\n",
       "        [ 2. ]],\n",
       "\n",
       "       [[ 2. ],\n",
       "        [ 2.5],\n",
       "        [ 3. ]],\n",
       "\n",
       "       [[ 3. ],\n",
       "        [ 3. ],\n",
       "        [ 4. ]],\n",
       "\n",
       "       [[ 4. ],\n",
       "        [ 4. ],\n",
       "        [56. ]],\n",
       "\n",
       "       [[ 5. ],\n",
       "        [ 6. ],\n",
       "        [ 7. ]]])"
      ]
     },
     "execution_count": 47,
     "metadata": {},
     "output_type": "execute_result"
    }
   ],
   "source": [
    "c.transpose()"
   ]
  },
  {
   "cell_type": "code",
   "execution_count": 44,
   "metadata": {},
   "outputs": [
    {
     "name": "stdout",
     "output_type": "stream",
     "text": [
      "int32\n",
      "int32\n",
      "float64\n"
     ]
    }
   ],
   "source": [
    "print(a.dtype)\n",
    "print(b.dtype)\n",
    "print(c.dtype)"
   ]
  }
 ],
 "metadata": {
  "kernelspec": {
   "display_name": "base",
   "language": "python",
   "name": "python3"
  },
  "language_info": {
   "codemirror_mode": {
    "name": "ipython",
    "version": 3
   },
   "file_extension": ".py",
   "mimetype": "text/x-python",
   "name": "python",
   "nbconvert_exporter": "python",
   "pygments_lexer": "ipython3",
   "version": "3.12.4"
  }
 },
 "nbformat": 4,
 "nbformat_minor": 2
}
